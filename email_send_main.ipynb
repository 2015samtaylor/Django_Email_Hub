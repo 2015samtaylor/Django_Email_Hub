{
 "cells": [
  {
   "cell_type": "code",
   "execution_count": null,
   "metadata": {},
   "outputs": [],
   "source": [
    "%load_ext autoreload\n",
    "%autoreload 2\n",
    "#class variables are initialized in config\n",
    "from config import *\n",
    "import pandas as pd\n",
    "import numpy as np\n",
    "from datetime import datetime\n",
    "import time\n",
    "import logging\n",
    "import os\n",
    "from emailscraper_app.modules.Sending_Emails.sends import EmailConfig\n",
    "from emailscraper_app.modules.Sending_Emails.sends import SendMail\n",
    "from emailscraper_app.modules.Sending_Emails.html_email_strings.schools_sport_focus import get_template\n",
    "#This import dictates template\n",
    "\n",
    "\n",
    "#create log dir and file\n",
    "logpath_creation = os.getcwd() + '\\\\Logs'\n",
    "if not os.path.exists(logpath_creation):\n",
    "    os.makedirs(logpath_creation)\n",
    "\n",
    "logging.basicConfig(filename= logpath_creation + '\\\\Email_Sender.log', level=logging.INFO,\n",
    "                    format='%(asctime)s - %(message)s', datefmt='%d-%b-%y %H:%M:%S', force=True)\n",
    "\n",
    "\n",
    "df = pd.read_csv('phony.csv')\n",
    "# ---------------------------\n",
    "\n",
    "def blast(email_config, df, test=False):\n",
    "\n",
    "\n",
    "    # Get the next 50 emails iteratively and send every 60 seconds with a new SMTP connection\n",
    "    # get_next_50 is what ends this function. It will break once end_point has surpassed.\n",
    "    while len(df) >= 1:\n",
    "\n",
    "        next_50 = SendMail.get_next_50(df)\n",
    "        try:\n",
    "            new_point = next_50.index[0]\n",
    "            end_point = next_50.index[-1]   \n",
    "            print(new_point, end_point) \n",
    "            logging.info(f'\\n\\nStarting email send at index {new_point}, and ending at index {end_point}')\n",
    "        except IndexError:\n",
    "            print('List has been fully iterated through')\n",
    "\n",
    "         # Check if the end_point surpasses 1500\n",
    "        if end_point >= 1500:\n",
    "            logging.info('Reached the end_point limit of 1500. Exited the loop.')\n",
    "            print('Reached the end_point limit of 1500. Exited the loop.')\n",
    "            break\n",
    "        \n",
    "        # Process the emails\n",
    "        email_history = SendMail.process(next_50, email_config, test)\n",
    "        email_history.to_csv('output.csv', index = False)\n",
    "\n",
    "        \n",
    "        if test:\n",
    "            logging.info('Breaking loop after sending to personal emails due to test')\n",
    "            print('Breaking loop after sending to personal emails due to test')\n",
    "            break  # Terminate after one iteration if test=True\n",
    "        \n",
    "        interval_seconds = 30\n",
    "        # Wait for the specified interval before the next iteration\n",
    "        try:\n",
    "            time.sleep(interval_seconds)\n",
    "            logging.info(f'Sleeping for {interval_seconds} seconds completed')\n",
    "            print(f'Sleeping for {interval_seconds} seconds')\n",
    "        except:\n",
    "            logging.info('Issue with the sleep')\n",
    "            print('Issue with the sleep')\n",
    "    \n",
    "    os.remove('output.csv')\n",
    "\n",
    "#If test ARG is True it will keep sending to personal email\n",
    "#& output.csv must not exist at the beginning of new runs\n",
    "blast(email_config, df, test=True)\n"
   ]
  },
  {
   "cell_type": "markdown",
   "metadata": {},
   "source": [
    "# Test Requests"
   ]
  },
  {
   "cell_type": "code",
   "execution_count": 13,
   "metadata": {},
   "outputs": [
    {
     "data": {
      "text/plain": [
       "'uploads/2024/8/2/email_test.csv'"
      ]
     },
     "execution_count": 13,
     "metadata": {},
     "output_type": "execute_result"
    }
   ],
   "source": [
    "import os\n",
    "import django\n",
    "from django.http import HttpRequest\n",
    "\n",
    "# Setting up Django\n",
    "os.environ.setdefault('DJANGO_SETTINGS_MODULE', 'emailscraper_proj.settings')\n",
    "django.setup()\n",
    "\n",
    "# Import the views or functions you want to test\n",
    "from emailscraper_app.views.uploading_file_views import serve_gcs_file, read_csv_from_gcs\n",
    "\n",
    "# Create a mock HttpRequest object\n",
    "request = HttpRequest()\n",
    "\n",
    "# Manually populate the POST data\n",
    "request.method = 'POST'\n",
    "request.POST['selected_file_url'] = 'uploads/2024/8/2/email_test.csv'\n",
    "\n",
    "# Now you can retrieve it\n",
    "selected_file_url = request.POST.get('selected_file_url')\n",
    "\n",
    "selected_file_url\n"
   ]
  },
  {
   "cell_type": "code",
   "execution_count": 5,
   "metadata": {},
   "outputs": [
    {
     "data": {
      "text/plain": [
       "'/serve-file/uploads/2024/8/2/email_test.csv/'"
      ]
     },
     "execution_count": 5,
     "metadata": {},
     "output_type": "execute_result"
    }
   ],
   "source": [
    "selected_file_url"
   ]
  },
  {
   "cell_type": "code",
   "execution_count": null,
   "metadata": {},
   "outputs": [],
   "source": [
    "<option value=\"35\" data-url=\"/serve-file/uploads/2024/8/2/email_test.csv/\">uploads/2024/8/2/email_test.csv</option>"
   ]
  },
  {
   "cell_type": "code",
   "execution_count": 1,
   "metadata": {},
   "outputs": [],
   "source": [
    "import pandas as pd\n",
    "\n",
    "# Define the data as a list of dictionaries\n",
    "data = [\n",
    "    {'email_test': '2015samtaylor@gmail.com', 'first_name': 'John', 'last_name': 'Doe', 'age': 28, 'city': 'New York'},\n",
    "    {'email_test': '2015samtaylor@gmail.com', 'first_name': 'Jane', 'last_name': 'Smith', 'age': 34, 'city': 'Los Angeles'},\n",
    "    {'email_test': '2015samtaylor@gmail.com', 'first_name': 'Alice', 'last_name': 'Johnson', 'age': 29, 'city': 'Chicago'},\n",
    "    {'email_test': 'sammytaylor2006@yahoo.com', 'first_name': 'Bob', 'last_name': 'Brown', 'age': 40, 'city': 'Houston'},\n",
    "    {'email_test': 'sammytaylor2006@yahoo.com', 'first_name': 'Charlie', 'last_name': 'Williams', 'age': 36, 'city': 'Phoenix'},\n",
    "    {'email_test': 'sammytaylor2006@yahoo.com', 'first_name': 'David', 'last_name': 'Jones', 'age': 31, 'city': 'Philadelphia'},\n",
    "    {'email_test': 'alysiakimball532@gmail.com', 'first_name': 'Alysia', 'last_name': 'Kimball', 'age': 25, 'city': 'San Diego'}\n",
    "]\n",
    "\n",
    "# Create the DataFrame\n",
    "df = pd.DataFrame(data)\n",
    "\n",
    "\n",
    "email_config = {'EMAIL_ADDRESS_FROM': '2015samtaylor@gmail.com', \n",
    "'EMAIL_PASS': 'feqdwowrmaqthjkx', \n",
    "'server': 'emailcampaign.c9vhoi6ncot7.us-east-1.rds.amazonaws.com', \n",
    "'database': 'emailcampaign', \n",
    "'table_name': 'email_history', \n",
    "'email_subject_line': 'Local Supplier for Baseball Apparel',\n",
    " 'email_campaign_name': 'Local Supplier Baseball',\n",
    "  'contact_column': 'email_test'}\n"
   ]
  },
  {
   "cell_type": "code",
   "execution_count": 4,
   "metadata": {},
   "outputs": [
    {
     "name": "stdout",
     "output_type": "stream",
     "text": [
      "Matched last email sent to master frame, proceding from last email sent\n"
     ]
    },
    {
     "data": {
      "text/html": [
       "<div>\n",
       "<style scoped>\n",
       "    .dataframe tbody tr th:only-of-type {\n",
       "        vertical-align: middle;\n",
       "    }\n",
       "\n",
       "    .dataframe tbody tr th {\n",
       "        vertical-align: top;\n",
       "    }\n",
       "\n",
       "    .dataframe thead th {\n",
       "        text-align: right;\n",
       "    }\n",
       "</style>\n",
       "<table border=\"1\" class=\"dataframe\">\n",
       "  <thead>\n",
       "    <tr style=\"text-align: right;\">\n",
       "      <th></th>\n",
       "      <th>email_test</th>\n",
       "      <th>first_name</th>\n",
       "      <th>last_name</th>\n",
       "      <th>age</th>\n",
       "      <th>city</th>\n",
       "    </tr>\n",
       "  </thead>\n",
       "  <tbody>\n",
       "  </tbody>\n",
       "</table>\n",
       "</div>"
      ],
      "text/plain": [
       "Empty DataFrame\n",
       "Columns: [email_test, first_name, last_name, age, city]\n",
       "Index: []"
      ]
     },
     "execution_count": 4,
     "metadata": {},
     "output_type": "execute_result"
    }
   ],
   "source": [
    "\n",
    "import os\n",
    "import numpy as np\n",
    "\n",
    "def get_next_50(df, email_config):\n",
    "\n",
    "\n",
    "    email_contact = email_config['contact_column']\n",
    "\n",
    "    try:    \n",
    "        email_history = pd.read_csv(os.getcwd() + '\\\\output.csv')\n",
    "\n",
    "        #This always needs to be 'contact_email' to refer to output.csv\n",
    "        last_email_sent = email_history['contact_email'].iloc[-1]\n",
    "            \n",
    "        # Find the index in df where the 'email' column matches the last_email_sent\n",
    "        index_to_start = df[df[email_contact] == last_email_sent].index.max() + 1\n",
    "\n",
    "        if np.isnan(index_to_start):    #So if index_to_start is nan. Then let df be itself. \n",
    "            print('Could not match last email sent to master frame, proceeding with original frame')\n",
    "            df_remaining = df\n",
    "        else:\n",
    "            print(\"Matched last email sent to master frame, proceding from last email sent\")\n",
    "            # # Process df starting from the index_to_start\n",
    "            df_remaining = df.loc[index_to_start: index_to_start + 50]\n",
    "\n",
    "    except FileNotFoundError:\n",
    "        print('Output is not created, first run of 50 emails preparing to be sent')\n",
    "        logging.info('Output is not created, first run of 50 emails preparing to be sent')\n",
    "\n",
    "        #Process df starting from the index_to_start\n",
    "        df_remaining = df.iloc[0:50]\n",
    "\n",
    "    except TypeError:\n",
    "        \n",
    "        #email where final send was left off can not be matched up in the original df\n",
    "        print('Email where final send was left off can not be matched up in the original df. Frame is empty')\n",
    "        logging.info('Email where final send was left off can not be matched up in the original df. Frame is empty')\n",
    "        #create empty frame to return\n",
    "        df_remaining = pd.DataFrame()\n",
    "\n",
    "    return(df_remaining)\n",
    "\n",
    "\n",
    "get_next_50(df, email_config)\n",
    "\n",
    "#alysia is the last email in both of my frames"
   ]
  }
 ],
 "metadata": {
  "kernelspec": {
   "display_name": "base",
   "language": "python",
   "name": "python3"
  },
  "language_info": {
   "codemirror_mode": {
    "name": "ipython",
    "version": 3
   },
   "file_extension": ".py",
   "mimetype": "text/x-python",
   "name": "python",
   "nbconvert_exporter": "python",
   "pygments_lexer": "ipython3",
   "version": "3.9.7"
  }
 },
 "nbformat": 4,
 "nbformat_minor": 2
}
