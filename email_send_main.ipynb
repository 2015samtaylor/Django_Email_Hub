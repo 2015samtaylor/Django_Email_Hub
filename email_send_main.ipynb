{
 "cells": [
  {
   "cell_type": "code",
   "execution_count": 2,
   "metadata": {},
   "outputs": [
    {
     "name": "stdout",
     "output_type": "stream",
     "text": [
      "The autoreload extension is already loaded. To reload it, use:\n",
      "  %reload_ext autoreload\n",
      "Output is not created, first run of 50 emails preparing to be sent\n",
      "0 2\n",
      "Test argument is True, cutting down frame and sending to personal emails\n",
      "0 High School A\n",
      "1 High School B\n",
      "Breaking loop after sending to personal emails due to test\n"
     ]
    }
   ],
   "source": [
    "%load_ext autoreload\n",
    "%autoreload 2\n",
    "#class variables are initialized in config\n",
    "from config import *\n",
    "import pandas as pd\n",
    "import numpy as np\n",
    "from datetime import datetime\n",
    "import time\n",
    "import logging\n",
    "import os\n",
    "from emailscraper_app.modules.Sending_Emails.sends import EmailConfig\n",
    "from emailscraper_app.modules.Sending_Emails.sends import SendMail\n",
    "from emailscraper_app.modules.Sending_Emails.html_email_strings.schools_sport_focus import get_template\n",
    "#This import dictates template\n",
    "\n",
    "\n",
    "#create log dir and file\n",
    "logpath_creation = os.getcwd() + '\\\\Logs'\n",
    "if not os.path.exists(logpath_creation):\n",
    "    os.makedirs(logpath_creation)\n",
    "\n",
    "logging.basicConfig(filename= logpath_creation + '\\\\Email_Sender.log', level=logging.INFO,\n",
    "                    format='%(asctime)s - %(message)s', datefmt='%d-%b-%y %H:%M:%S', force=True)\n",
    "\n",
    "\n",
    "df = pd.read_csv('phony.csv')\n",
    "# ---------------------------\n",
    "\n",
    "def blast(email_config, df, test=False):\n",
    "\n",
    "\n",
    "    # Get the next 50 emails iteratively and send every 60 seconds with a new SMTP connection\n",
    "    # get_next_50 is what ends this function. It will break once end_point has surpassed.\n",
    "    while len(df) >= 1:\n",
    "\n",
    "        next_50 = SendMail.get_next_50(df)\n",
    "        try:\n",
    "            new_point = next_50.index[0]\n",
    "            end_point = next_50.index[-1]   \n",
    "            print(new_point, end_point) \n",
    "            logging.info(f'\\n\\nStarting email send at index {new_point}, and ending at index {end_point}')\n",
    "        except IndexError:\n",
    "            print('List has been fully iterated through')\n",
    "\n",
    "         # Check if the end_point surpasses 1500\n",
    "        if end_point >= 1500:\n",
    "            logging.info('Reached the end_point limit of 1500. Exited the loop.')\n",
    "            print('Reached the end_point limit of 1500. Exited the loop.')\n",
    "            break\n",
    "        \n",
    "        # Process the emails\n",
    "        email_history = SendMail.process(next_50, email_config, test)\n",
    "        email_history.to_csv('output.csv', index = False)\n",
    "\n",
    "        \n",
    "        if test:\n",
    "            logging.info('Breaking loop after sending to personal emails due to test')\n",
    "            print('Breaking loop after sending to personal emails due to test')\n",
    "            break  # Terminate after one iteration if test=True\n",
    "        \n",
    "        interval_seconds = 30\n",
    "        # Wait for the specified interval before the next iteration\n",
    "        try:\n",
    "            time.sleep(interval_seconds)\n",
    "            logging.info(f'Sleeping for {interval_seconds} seconds completed')\n",
    "            print(f'Sleeping for {interval_seconds} seconds')\n",
    "        except:\n",
    "            logging.info('Issue with the sleep')\n",
    "            print('Issue with the sleep')\n",
    "    \n",
    "    os.remove('output.csv')\n",
    "\n",
    "#If test ARG is True it will keep sending to personal email\n",
    "#& output.csv must not exist at the beginning of new runs\n",
    "blast(email_config, df, test=True)\n"
   ]
  },
  {
   "cell_type": "code",
   "execution_count": 11,
   "metadata": {},
   "outputs": [],
   "source": [
    "from emailscraper_app.modules.Sending_Emails import KC_schools\n",
    "\n",
    "df = KC_schools.read_in()\n",
    "df = KC_schools.filter_emails_by_sport(df, ['Baseball', 'Softball'])"
   ]
  },
  {
   "cell_type": "code",
   "execution_count": 16,
   "metadata": {},
   "outputs": [
    {
     "name": "stdout",
     "output_type": "stream",
     "text": [
      "Here are the columns\n",
      " Index(['SchoolDistrict', 'Level', 'HighSchools', 'Position', 'email'], dtype='object')\n"
     ]
    }
   ],
   "source": [
    "print('Here are the columns\\n', df.columns)"
   ]
  }
 ],
 "metadata": {
  "kernelspec": {
   "display_name": "base",
   "language": "python",
   "name": "python3"
  },
  "language_info": {
   "codemirror_mode": {
    "name": "ipython",
    "version": 3
   },
   "file_extension": ".py",
   "mimetype": "text/x-python",
   "name": "python",
   "nbconvert_exporter": "python",
   "pygments_lexer": "ipython3",
   "version": "3.9.7"
  }
 },
 "nbformat": 4,
 "nbformat_minor": 2
}
